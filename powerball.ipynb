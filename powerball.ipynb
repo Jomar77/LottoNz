{
 "cells": [
  {
   "cell_type": "code",
   "execution_count": 73,
   "metadata": {},
   "outputs": [],
   "source": [
    "import pandas as pd\n",
    "from sklearn.model_selection import train_test_split\n",
    "from sklearn.linear_model import LinearRegression\n",
    "import numpy as np\n"
   ]
  },
  {
   "cell_type": "code",
   "execution_count": 74,
   "metadata": {},
   "outputs": [],
   "source": [
    "\n",
    "df = pd.read_csv('powerball.csv', header=None, delimiter=',')\n"
   ]
  },
  {
   "cell_type": "code",
   "execution_count": 75,
   "metadata": {},
   "outputs": [],
   "source": [
    "\n",
    "df.fillna(0, inplace=True)\n",
    "data = df.values.flatten()\n",
    "\n",
    "X = np.array([data[i-1] for i in range(1, len(data))]).reshape(-1, 1)\n",
    "y = np.array([data[i] for i in range(1, len(data))])"
   ]
  },
  {
   "cell_type": "code",
   "execution_count": 76,
   "metadata": {},
   "outputs": [],
   "source": [
    "\n",
    "\n",
    "# Split the data\n",
    "X_train, X_test, y_train, y_test = train_test_split(X, y, test_size=0.2, random_state=42)\n",
    "\n"
   ]
  },
  {
   "cell_type": "code",
   "execution_count": 80,
   "metadata": {},
   "outputs": [
    {
     "name": "stdout",
     "output_type": "stream",
     "text": [
      "Epoch 1/50\n",
      "8/8 [==============================] - 1s 4ms/step - loss: 38.8968\n",
      "Epoch 2/50\n",
      "8/8 [==============================] - 0s 4ms/step - loss: 35.0390\n",
      "Epoch 3/50\n",
      "8/8 [==============================] - 0s 4ms/step - loss: 31.5646\n",
      "Epoch 4/50\n",
      "8/8 [==============================] - 0s 4ms/step - loss: 28.8111\n",
      "Epoch 5/50\n",
      "8/8 [==============================] - 0s 4ms/step - loss: 26.2501\n",
      "Epoch 6/50\n",
      "8/8 [==============================] - 0s 4ms/step - loss: 24.3293\n",
      "Epoch 7/50\n",
      "8/8 [==============================] - 0s 4ms/step - loss: 22.5084\n",
      "Epoch 8/50\n",
      "8/8 [==============================] - 0s 4ms/step - loss: 21.2679\n",
      "Epoch 9/50\n",
      "8/8 [==============================] - 0s 4ms/step - loss: 20.1762\n",
      "Epoch 10/50\n",
      "8/8 [==============================] - 0s 3ms/step - loss: 19.3300\n",
      "Epoch 11/50\n",
      "8/8 [==============================] - 0s 3ms/step - loss: 18.7042\n",
      "Epoch 12/50\n",
      "8/8 [==============================] - 0s 4ms/step - loss: 18.1763\n",
      "Epoch 13/50\n",
      "8/8 [==============================] - 0s 4ms/step - loss: 17.8636\n",
      "Epoch 14/50\n",
      "8/8 [==============================] - 0s 3ms/step - loss: 17.5206\n",
      "Epoch 15/50\n",
      "8/8 [==============================] - 0s 4ms/step - loss: 17.3900\n",
      "Epoch 16/50\n",
      "8/8 [==============================] - 0s 3ms/step - loss: 17.2035\n",
      "Epoch 17/50\n",
      "8/8 [==============================] - 0s 4ms/step - loss: 17.0826\n",
      "Epoch 18/50\n",
      "8/8 [==============================] - 0s 3ms/step - loss: 17.0411\n",
      "Epoch 19/50\n",
      "8/8 [==============================] - 0s 3ms/step - loss: 16.9334\n",
      "Epoch 20/50\n",
      "8/8 [==============================] - 0s 3ms/step - loss: 16.8854\n",
      "Epoch 21/50\n",
      "8/8 [==============================] - 0s 4ms/step - loss: 16.8256\n",
      "Epoch 22/50\n",
      "8/8 [==============================] - 0s 3ms/step - loss: 16.7842\n",
      "Epoch 23/50\n",
      "8/8 [==============================] - 0s 3ms/step - loss: 16.7482\n",
      "Epoch 24/50\n",
      "8/8 [==============================] - 0s 3ms/step - loss: 16.7178\n",
      "Epoch 25/50\n",
      "8/8 [==============================] - 0s 3ms/step - loss: 16.6444\n",
      "Epoch 26/50\n",
      "8/8 [==============================] - 0s 3ms/step - loss: 16.6096\n",
      "Epoch 27/50\n",
      "8/8 [==============================] - 0s 3ms/step - loss: 16.5653\n",
      "Epoch 28/50\n",
      "8/8 [==============================] - 0s 3ms/step - loss: 16.5514\n",
      "Epoch 29/50\n",
      "8/8 [==============================] - 0s 3ms/step - loss: 16.4822\n",
      "Epoch 30/50\n",
      "8/8 [==============================] - 0s 3ms/step - loss: 16.4591\n",
      "Epoch 31/50\n",
      "8/8 [==============================] - 0s 3ms/step - loss: 16.4103\n",
      "Epoch 32/50\n",
      "8/8 [==============================] - 0s 3ms/step - loss: 16.3581\n",
      "Epoch 33/50\n",
      "8/8 [==============================] - 0s 3ms/step - loss: 16.3108\n",
      "Epoch 34/50\n",
      "8/8 [==============================] - 0s 4ms/step - loss: 16.2602\n",
      "Epoch 35/50\n",
      "8/8 [==============================] - 0s 3ms/step - loss: 16.2169\n",
      "Epoch 36/50\n",
      "8/8 [==============================] - 0s 11ms/step - loss: 16.1687\n",
      "Epoch 37/50\n",
      "8/8 [==============================] - 0s 3ms/step - loss: 16.1275\n",
      "Epoch 38/50\n",
      "8/8 [==============================] - 0s 6ms/step - loss: 16.0849\n",
      "Epoch 39/50\n",
      "8/8 [==============================] - 0s 3ms/step - loss: 16.0431\n",
      "Epoch 40/50\n",
      "8/8 [==============================] - 0s 3ms/step - loss: 15.9898\n",
      "Epoch 41/50\n",
      "8/8 [==============================] - 0s 3ms/step - loss: 15.9446\n",
      "Epoch 42/50\n",
      "8/8 [==============================] - 0s 3ms/step - loss: 15.9109\n",
      "Epoch 43/50\n",
      "8/8 [==============================] - 0s 3ms/step - loss: 15.8467\n",
      "Epoch 44/50\n",
      "8/8 [==============================] - 0s 3ms/step - loss: 15.7980\n",
      "Epoch 45/50\n",
      "8/8 [==============================] - 0s 3ms/step - loss: 15.7563\n",
      "Epoch 46/50\n",
      "8/8 [==============================] - 0s 2ms/step - loss: 15.7067\n",
      "Epoch 47/50\n",
      "8/8 [==============================] - 0s 3ms/step - loss: 15.6678\n",
      "Epoch 48/50\n",
      "8/8 [==============================] - 0s 3ms/step - loss: 15.6555\n",
      "Epoch 49/50\n",
      "8/8 [==============================] - 0s 3ms/step - loss: 15.5692\n",
      "Epoch 50/50\n",
      "8/8 [==============================] - 0s 3ms/step - loss: 15.5174\n"
     ]
    },
    {
     "data": {
      "text/plain": [
       "<keras.callbacks.History at 0x16c4aae6aa0>"
      ]
     },
     "execution_count": 80,
     "metadata": {},
     "output_type": "execute_result"
    }
   ],
   "source": [
    "from tensorflow.keras.models import Sequential\n",
    "from tensorflow.keras.layers import Dense\n",
    "\n",
    "# Define the model\n",
    "model = Sequential()\n",
    "model.add(Dense(32, input_dim=X_train.shape[1], activation='relu'))  # Hidden layer with 32 neurons\n",
    "model.add(Dense(1))  # Output layer\n",
    "\n",
    "# Compile the model\n",
    "model.compile(loss='mean_squared_error', optimizer='adam')\n",
    "\n",
    "# Fit the model\n",
    "model.fit(X_train, y_train, epochs=50, batch_size=10)"
   ]
  },
  {
   "cell_type": "code",
   "execution_count": 79,
   "metadata": {},
   "outputs": [
    {
     "name": "stdout",
     "output_type": "stream",
     "text": [
      "The predicted next number is: 6\n"
     ]
    }
   ],
   "source": [
    "# Predict the next number\n",
    "next_number = model.predict([[data[-1]]])\n",
    "print(f\"The predicted next number is: {round(next_number[0])}\")"
   ]
  },
  {
   "cell_type": "code",
   "execution_count": null,
   "metadata": {},
   "outputs": [],
   "source": []
  }
 ],
 "metadata": {
  "kernelspec": {
   "display_name": "Python 3",
   "language": "python",
   "name": "python3"
  },
  "language_info": {
   "codemirror_mode": {
    "name": "ipython",
    "version": 3
   },
   "file_extension": ".py",
   "mimetype": "text/x-python",
   "name": "python",
   "nbconvert_exporter": "python",
   "pygments_lexer": "ipython3",
   "version": "3.10.3"
  }
 },
 "nbformat": 4,
 "nbformat_minor": 2
}
