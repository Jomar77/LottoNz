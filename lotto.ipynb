{
 "cells": [
  {
   "cell_type": "code",
   "execution_count": 1,
   "metadata": {},
   "outputs": [],
   "source": [
    "import pandas as pd\n",
    "import numpy as np\n",
    "from sklearn.preprocessing import StandardScaler\n",
    "from sklearn.model_selection import train_test_split\n",
    "from keras.models import Sequential\n",
    "from keras.layers import LSTM, Dense\n"
   ]
  },
  {
   "cell_type": "code",
   "execution_count": 2,
   "metadata": {},
   "outputs": [],
   "source": [
    "\n",
    "data = pd.read_csv('lotto.csv', header=None)\n"
   ]
  },
  {
   "cell_type": "code",
   "execution_count": 3,
   "metadata": {},
   "outputs": [],
   "source": [
    "X = data.iloc[:, :-1].values  # Features (historical numbers)\n",
    "y = data.iloc[:, -1].values  "
   ]
  },
  {
   "cell_type": "code",
   "execution_count": 4,
   "metadata": {},
   "outputs": [],
   "source": [
    "X_train, X_test, y_train, y_test = train_test_split(X, y, test_size=0.2, random_state=42)"
   ]
  },
  {
   "cell_type": "code",
   "execution_count": 5,
   "metadata": {},
   "outputs": [],
   "source": [
    "scaler = StandardScaler()\n",
    "X = scaler.fit_transform(X)"
   ]
  },
  {
   "cell_type": "code",
   "execution_count": 6,
   "metadata": {},
   "outputs": [],
   "source": [
    "X_train = np.reshape(X_train, (X_train.shape[0], 1, X_train.shape[1]))\n",
    "X_test = np.reshape(X_test, (X_test.shape[0], 1, X_test.shape[1]))"
   ]
  },
  {
   "cell_type": "code",
   "execution_count": 7,
   "metadata": {},
   "outputs": [],
   "source": [
    "model = Sequential()\n",
    "model.add(LSTM(units=50, activation='relu', input_shape=(X_train.shape[1], X_train.shape[2])))\n",
    "model.add(Dense(units=1))"
   ]
  },
  {
   "cell_type": "code",
   "execution_count": 8,
   "metadata": {},
   "outputs": [],
   "source": [
    "model.compile(optimizer='adam', loss='mean_squared_error')"
   ]
  },
  {
   "cell_type": "code",
   "execution_count": 9,
   "metadata": {},
   "outputs": [
    {
     "name": "stdout",
     "output_type": "stream",
     "text": [
      "Epoch 1/50\n"
     ]
    },
    {
     "name": "stdout",
     "output_type": "stream",
     "text": [
      "9/9 [==============================] - 1s 3ms/step - loss: 826.3923\n",
      "Epoch 2/50\n",
      "9/9 [==============================] - 0s 2ms/step - loss: 764.1017\n",
      "Epoch 3/50\n",
      "9/9 [==============================] - 0s 2ms/step - loss: 679.3865\n",
      "Epoch 4/50\n",
      "9/9 [==============================] - 0s 2ms/step - loss: 552.5192\n",
      "Epoch 5/50\n",
      "9/9 [==============================] - 0s 2ms/step - loss: 383.0020\n",
      "Epoch 6/50\n",
      "9/9 [==============================] - 0s 2ms/step - loss: 213.6137\n",
      "Epoch 7/50\n",
      "9/9 [==============================] - 0s 2ms/step - loss: 148.0568\n",
      "Epoch 8/50\n",
      "9/9 [==============================] - 0s 2ms/step - loss: 149.1781\n",
      "Epoch 9/50\n",
      "9/9 [==============================] - 0s 2ms/step - loss: 135.1796\n",
      "Epoch 10/50\n",
      "9/9 [==============================] - 0s 2ms/step - loss: 128.5413\n",
      "Epoch 11/50\n",
      "9/9 [==============================] - 0s 2ms/step - loss: 123.2097\n",
      "Epoch 12/50\n",
      "9/9 [==============================] - 0s 2ms/step - loss: 119.8043\n",
      "Epoch 13/50\n",
      "9/9 [==============================] - 0s 2ms/step - loss: 116.0043\n",
      "Epoch 14/50\n",
      "9/9 [==============================] - 0s 2ms/step - loss: 113.4149\n",
      "Epoch 15/50\n",
      "9/9 [==============================] - 0s 2ms/step - loss: 110.4246\n",
      "Epoch 16/50\n",
      "9/9 [==============================] - 0s 2ms/step - loss: 107.6032\n",
      "Epoch 17/50\n",
      "9/9 [==============================] - 0s 2ms/step - loss: 105.9625\n",
      "Epoch 18/50\n",
      "9/9 [==============================] - 0s 2ms/step - loss: 103.9216\n",
      "Epoch 19/50\n",
      "9/9 [==============================] - 0s 2ms/step - loss: 101.6529\n",
      "Epoch 20/50\n",
      "9/9 [==============================] - 0s 2ms/step - loss: 99.8812\n",
      "Epoch 21/50\n",
      "9/9 [==============================] - 0s 2ms/step - loss: 99.0948\n",
      "Epoch 22/50\n",
      "9/9 [==============================] - 0s 2ms/step - loss: 97.1109\n",
      "Epoch 23/50\n",
      "9/9 [==============================] - 0s 2ms/step - loss: 95.9957\n",
      "Epoch 24/50\n",
      "9/9 [==============================] - 0s 2ms/step - loss: 94.3388\n",
      "Epoch 25/50\n",
      "9/9 [==============================] - 0s 2ms/step - loss: 92.7870\n",
      "Epoch 26/50\n",
      "9/9 [==============================] - 0s 2ms/step - loss: 91.9378\n",
      "Epoch 27/50\n",
      "9/9 [==============================] - 0s 2ms/step - loss: 90.0609\n",
      "Epoch 28/50\n",
      "9/9 [==============================] - 0s 2ms/step - loss: 89.1420\n",
      "Epoch 29/50\n",
      "9/9 [==============================] - 0s 2ms/step - loss: 87.7119\n",
      "Epoch 30/50\n",
      "9/9 [==============================] - 0s 2ms/step - loss: 86.6100\n",
      "Epoch 31/50\n",
      "9/9 [==============================] - 0s 2ms/step - loss: 86.1065\n",
      "Epoch 32/50\n",
      "9/9 [==============================] - 0s 2ms/step - loss: 85.3720\n",
      "Epoch 33/50\n",
      "9/9 [==============================] - 0s 2ms/step - loss: 84.1989\n",
      "Epoch 34/50\n",
      "9/9 [==============================] - 0s 2ms/step - loss: 82.9355\n",
      "Epoch 35/50\n",
      "9/9 [==============================] - 0s 2ms/step - loss: 82.2364\n",
      "Epoch 36/50\n",
      "9/9 [==============================] - 0s 2ms/step - loss: 81.8794\n",
      "Epoch 37/50\n",
      "9/9 [==============================] - 0s 2ms/step - loss: 80.9061\n",
      "Epoch 38/50\n",
      "9/9 [==============================] - 0s 2ms/step - loss: 79.9758\n",
      "Epoch 39/50\n",
      "9/9 [==============================] - 0s 2ms/step - loss: 79.3057\n",
      "Epoch 40/50\n",
      "9/9 [==============================] - 0s 2ms/step - loss: 78.7845\n",
      "Epoch 41/50\n",
      "9/9 [==============================] - 0s 2ms/step - loss: 78.1093\n",
      "Epoch 42/50\n",
      "9/9 [==============================] - 0s 2ms/step - loss: 77.1545\n",
      "Epoch 43/50\n",
      "9/9 [==============================] - 0s 2ms/step - loss: 76.6602\n",
      "Epoch 44/50\n",
      "9/9 [==============================] - 0s 2ms/step - loss: 76.4702\n",
      "Epoch 45/50\n",
      "9/9 [==============================] - 0s 2ms/step - loss: 76.3386\n",
      "Epoch 46/50\n",
      "9/9 [==============================] - 0s 2ms/step - loss: 75.5041\n",
      "Epoch 47/50\n",
      "9/9 [==============================] - 0s 2ms/step - loss: 74.6104\n",
      "Epoch 48/50\n",
      "9/9 [==============================] - 0s 2ms/step - loss: 74.1253\n",
      "Epoch 49/50\n",
      "9/9 [==============================] - 0s 2ms/step - loss: 73.6295\n",
      "Epoch 50/50\n",
      "9/9 [==============================] - 0s 2ms/step - loss: 72.8536\n"
     ]
    },
    {
     "data": {
      "text/plain": [
       "<keras.callbacks.History at 0x1fe9b68f520>"
      ]
     },
     "execution_count": 9,
     "metadata": {},
     "output_type": "execute_result"
    }
   ],
   "source": [
    "model.fit(X_train, y_train, epochs=50, batch_size=32)"
   ]
  },
  {
   "cell_type": "code",
   "execution_count": 10,
   "metadata": {},
   "outputs": [
    {
     "name": "stdout",
     "output_type": "stream",
     "text": [
      "3/3 [==============================] - 0s 2ms/step - loss: 99.7177\n",
      "Test Loss: 99.71766662597656\n"
     ]
    }
   ],
   "source": [
    "loss = model.evaluate(X_test, y_test)\n",
    "print(\"Test Loss:\", loss)\n"
   ]
  },
  {
   "cell_type": "code",
   "execution_count": 11,
   "metadata": {},
   "outputs": [
    {
     "name": "stdout",
     "output_type": "stream",
     "text": [
      "1/1 [==============================] - 0s 175ms/step\n"
     ]
    }
   ],
   "source": [
    "last_sequence = X_test[-1]\n",
    "next_numbers = model.predict(np.reshape(last_sequence, (1, 1, X_test.shape[2])))\n",
    "\n"
   ]
  },
  {
   "cell_type": "code",
   "execution_count": 12,
   "metadata": {},
   "outputs": [
    {
     "ename": "ValueError",
     "evalue": "non-broadcastable output operand with shape (1,1) doesn't match the broadcast shape (1,5)",
     "output_type": "error",
     "traceback": [
      "\u001b[1;31m---------------------------------------------------------------------------\u001b[0m",
      "\u001b[1;31mValueError\u001b[0m                                Traceback (most recent call last)",
      "Input \u001b[1;32mIn [12]\u001b[0m, in \u001b[0;36m<cell line: 2>\u001b[1;34m()\u001b[0m\n\u001b[0;32m      1\u001b[0m \u001b[38;5;66;03m# Inverse transform to get the original scale\u001b[39;00m\n\u001b[1;32m----> 2\u001b[0m predicted_numbers \u001b[38;5;241m=\u001b[39m \u001b[43mscaler\u001b[49m\u001b[38;5;241;43m.\u001b[39;49m\u001b[43minverse_transform\u001b[49m\u001b[43m(\u001b[49m\u001b[43mnext_numbers\u001b[49m\u001b[43m)\u001b[49m\n\u001b[0;32m      3\u001b[0m predicted_numbers \u001b[38;5;241m=\u001b[39m predicted_numbers[\u001b[38;5;241m0\u001b[39m][\u001b[38;5;241m-\u001b[39m\u001b[38;5;241m6\u001b[39m:]\n\u001b[0;32m      4\u001b[0m \u001b[38;5;28mprint\u001b[39m(\u001b[38;5;124m\"\u001b[39m\u001b[38;5;124mPredicted Next Numbers:\u001b[39m\u001b[38;5;124m\"\u001b[39m, predicted_numbers)\n",
      "File \u001b[1;32mc:\\Users\\jomna\\AppData\\Local\\Programs\\Python\\Python310\\lib\\site-packages\\sklearn\\preprocessing\\_data.py:1035\u001b[0m, in \u001b[0;36mStandardScaler.inverse_transform\u001b[1;34m(self, X, copy)\u001b[0m\n\u001b[0;32m   1033\u001b[0m \u001b[38;5;28;01melse\u001b[39;00m:\n\u001b[0;32m   1034\u001b[0m     \u001b[38;5;28;01mif\u001b[39;00m \u001b[38;5;28mself\u001b[39m\u001b[38;5;241m.\u001b[39mwith_std:\n\u001b[1;32m-> 1035\u001b[0m         X \u001b[38;5;241m*\u001b[39m\u001b[38;5;241m=\u001b[39m \u001b[38;5;28mself\u001b[39m\u001b[38;5;241m.\u001b[39mscale_\n\u001b[0;32m   1036\u001b[0m     \u001b[38;5;28;01mif\u001b[39;00m \u001b[38;5;28mself\u001b[39m\u001b[38;5;241m.\u001b[39mwith_mean:\n\u001b[0;32m   1037\u001b[0m         X \u001b[38;5;241m+\u001b[39m\u001b[38;5;241m=\u001b[39m \u001b[38;5;28mself\u001b[39m\u001b[38;5;241m.\u001b[39mmean_\n",
      "\u001b[1;31mValueError\u001b[0m: non-broadcastable output operand with shape (1,1) doesn't match the broadcast shape (1,5)"
     ]
    }
   ],
   "source": [
    "# Inverse transform to get the original scale\n",
    "predicted_numbers = scaler.inverse_transform(next_numbers)\n",
    "predicted_numbers = predicted_numbers[0][-6:]\n",
    "print(\"Predicted Next Numbers:\", predicted_numbers)\n"
   ]
  }
 ],
 "metadata": {
  "kernelspec": {
   "display_name": "Python 3",
   "language": "python",
   "name": "python3"
  },
  "language_info": {
   "codemirror_mode": {
    "name": "ipython",
    "version": 3
   },
   "file_extension": ".py",
   "mimetype": "text/x-python",
   "name": "python",
   "nbconvert_exporter": "python",
   "pygments_lexer": "ipython3",
   "version": "3.10.3"
  },
  "orig_nbformat": 4
 },
 "nbformat": 4,
 "nbformat_minor": 2
}
